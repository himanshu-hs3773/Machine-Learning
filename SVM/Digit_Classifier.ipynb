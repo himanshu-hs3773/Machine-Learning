{
  "nbformat": 4,
  "nbformat_minor": 0,
  "metadata": {
    "kernelspec": {
      "display_name": "Python 3",
      "language": "python",
      "name": "python3"
    },
    "language_info": {
      "codemirror_mode": {
        "name": "ipython",
        "version": 3
      },
      "file_extension": ".py",
      "mimetype": "text/x-python",
      "name": "python",
      "nbconvert_exporter": "python",
      "pygments_lexer": "ipython3",
      "version": "3.7.1"
    },
    "colab": {
      "name": "SVM.ipynb",
      "provenance": []
    }
  },
  "cells": [
    {
      "cell_type": "markdown",
      "metadata": {
        "id": "QzzNBMK8X_SA",
        "colab_type": "text"
      },
      "source": [
        "# SVMs on Extended MNIST\n",
        " \n",
        "**Project Specifications :** Developing a classifier o distinguish digits from non-digits.\n",
        "\n",
        "**Tasks :**\n",
        "\n",
        "* Combining multiple datasets\n",
        "* Selecting the SVM parameters (`C` and `gamma`) via `cross-validation`."
      ]
    },
    {
      "cell_type": "code",
      "metadata": {
        "id": "OxSJkpJ5X_SC",
        "colab_type": "code",
        "colab": {}
      },
      "source": [
        "import numpy as np\n",
        "import matplotlib.pyplot as plt\n",
        "%matplotlib inline\n",
        "from sklearn import linear_model, preprocessing"
      ],
      "execution_count": 0,
      "outputs": []
    },
    {
      "cell_type": "markdown",
      "metadata": {
        "id": "Sbu6j2BsX_SJ",
        "colab_type": "text"
      },
      "source": [
        "## EMNIST Dataset\n",
        "\n",
        "The extended dataset of MNIST (called EMNIST)\n",
        "\n",
        "*Dataset Reference :* Cohen, G., Afshar, S., Tapson, J., & van Schaik, A. (2017). EMNIST: an extension of MNIST to handwritten letters. Retrieved from http://arxiv.org/abs/1702.05373\n",
        "\n",
        "* `emnist-digits.mat`:  This is a file of digits `0` to `9`, with multiple examples per class.\n",
        "* `emnist-letters.mat`:  This is a file of letters `a/A` to `z/Z`.  The lower and upper case letters are grouped into the same class."
      ]
    },
    {
      "cell_type": "markdown",
      "metadata": {
        "id": "vzNxg-DoX_SN",
        "colab_type": "text"
      },
      "source": [
        "Creating a function using the `scipy.io` package to extract the relevant fields from the MATLAB file.  Specifically, the function extracts the training and test data from MATLAB file. "
      ]
    },
    {
      "cell_type": "code",
      "metadata": {
        "id": "ffKv1rSMX_SO",
        "colab_type": "code",
        "colab": {}
      },
      "source": [
        "import scipy.io\n",
        "def load_emnist_dig(file_path='C:/emnist-digits.mat'):\n",
        "    \n",
        "    mat = scipy.io.loadmat(file_path)\n",
        "    \n",
        "    # training data\n",
        "    Xtr = mat['dataset'][0][0][0][0][0][0][:]\n",
        "    ntr = Xtr.shape[0]\n",
        "    ytr = mat['dataset'][0][0][0][0][0][1][:].reshape(ntr).astype(int)\n",
        "    \n",
        "    # test data\n",
        "    Xts = mat['dataset'][0][0][1][0][0][0][:]\n",
        "    nts = Xts.shape[0]\n",
        "    yts = mat['dataset'][0][0][1][0][0][1][:].reshape(nts).astype(int)\n",
        "    \n",
        "    print(\"%d training samples, %d test samples loaded\" % (ntr, nts))\n",
        "\n",
        "    return [Xtr, Xts, ytr, yts]\n",
        "\n",
        "def load_emnist_let(file_path='C:/emnist-letters.mat'):\n",
        "\n",
        "    mat = scipy.io.loadmat(file_path)\n",
        "    \n",
        "    # training data\n",
        "    Xtr = mat['dataset'][0][0][0][0][0][0][:]\n",
        "    ntr = Xtr.shape[0]\n",
        "    ytr = mat['dataset'][0][0][0][0][0][1][:].reshape(ntr).astype(int)\n",
        "    \n",
        "    # test data\n",
        "    Xts = mat['dataset'][0][0][1][0][0][0][:]\n",
        "    nts = Xts.shape[0]\n",
        "    yts = mat['dataset'][0][0][1][0][0][1][:].reshape(nts).astype(int)\n",
        "    \n",
        "    print(\"%d training samples, %d test samples loaded\" % (ntr, nts))\n",
        "\n",
        "    return [Xtr, Xts, ytr, yts]"
      ],
      "execution_count": 0,
      "outputs": []
    },
    {
      "cell_type": "code",
      "metadata": {
        "id": "GOdjWLaKX_ST",
        "colab_type": "code",
        "colab": {},
        "outputId": "017edada-b2c1-4fa8-8ff5-bb6804b57c32"
      },
      "source": [
        "# digit data from emnist-digits.mat\n",
        "Xtr_dig, Xts_dig, ytr_dig, yts_dig = load_emnist_dig()"
      ],
      "execution_count": 0,
      "outputs": [
        {
          "output_type": "stream",
          "text": [
            "240000 training samples, 40000 test samples loaded\n"
          ],
          "name": "stdout"
        }
      ]
    },
    {
      "cell_type": "code",
      "metadata": {
        "id": "K-Hn44E1X_SZ",
        "colab_type": "code",
        "colab": {},
        "outputId": "d2508820-f46e-480b-cbbb-8acf73bde000"
      },
      "source": [
        "# non-digit data from emnist-letters.mat\n",
        "Xtr_let, Xts_let, ytr_let, yts_let = load_emnist_let()"
      ],
      "execution_count": 0,
      "outputs": [
        {
          "output_type": "stream",
          "text": [
            "124800 training samples, 20800 test samples loaded\n"
          ],
          "name": "stdout"
        }
      ]
    },
    {
      "cell_type": "code",
      "metadata": {
        "id": "ImjuFIwCX_Sf",
        "colab_type": "code",
        "colab": {}
      },
      "source": [
        "def plt_char(x,y=None):\n",
        "    nrow = 28\n",
        "    ncol = 28\n",
        "    xsq = x.reshape((nrow,ncol))\n",
        "    plt.imshow(xsq.T,  cmap='Greys_r')\n",
        "    plt.xticks([])\n",
        "    plt.yticks([])    \n",
        "    if y != None:\n",
        "        plt.title('%d' % y)        "
      ],
      "execution_count": 0,
      "outputs": []
    },
    {
      "cell_type": "markdown",
      "metadata": {
        "id": "KFTVtJAWX_Ur",
        "colab_type": "text"
      },
      "source": [
        "**Plotting 8 random samples from the digit and letter training data.**"
      ]
    },
    {
      "cell_type": "code",
      "metadata": {
        "id": "eHRTiHrfX_Us",
        "colab_type": "code",
        "colab": {},
        "outputId": "d311bb2d-d343-440c-a3de-b89a58722b85"
      },
      "source": [
        "nplt = 8\n",
        "nsamp = Xtr_dig.shape[0]\n",
        "Iperm = np.random.permutation(nsamp)\n",
        "\n",
        "for i in range(nplt):\n",
        "    ind = Iperm[i]\n",
        "    plt.subplot(1,nplt,i+1)\n",
        "    plt_char(Xtr_dig[ind,:])\n"
      ],
      "execution_count": 0,
      "outputs": [
        {
          "output_type": "display_data",
          "data": {
            "image/png": "[encoded data removed]",
            "text/plain": [
              "<Figure size 432x288 with 8 Axes>"
            ]
          },
          "metadata": {
            "tags": []
          }
        }
      ]
    },
    {
      "cell_type": "code",
      "metadata": {
        "id": "QHAs_qD5X_U1",
        "colab_type": "code",
        "colab": {},
        "outputId": "e83b604b-c3d8-4bbf-fc57-bbedd7d57a4a"
      },
      "source": [
        "nplt = 8\n",
        "nsamp = Xtr_let.shape[0]\n",
        "Iperm = np.random.permutation(nsamp)\n",
        "\n",
        "for i in range(nplt):\n",
        "    ind = Iperm[i]\n",
        "    plt.subplot(1,nplt,i+1)\n",
        "    plt_char(Xtr_let[ind,:])"
      ],
      "execution_count": 0,
      "outputs": [
        {
          "output_type": "display_data",
          "data": {
            "image/png": "[encoded data removed]",
            "text/plain": [
              "<Figure size 432x288 with 8 Axes>"
            ]
          },
          "metadata": {
            "tags": []
          }
        }
      ]
    },
    {
      "cell_type": "markdown",
      "metadata": {
        "id": "4H9NMGPwX_U3",
        "colab_type": "text"
      },
      "source": [
        "## Creating a Non-Digit Class\n",
        "\n",
        "SVM classifiers are VERY SLOW to train.  The training is particularly slow when there are a large number of classes, so lumping all of the letters in one class and add that class to the digits.  \n",
        "\n",
        "Before we begin, we first need to remove all the letters corresponding to `i/I`, `l/L` and `o/O`.  The reason is that these letters would get confused with the digits `0` and `1`.  \n",
        "\n",
        "Using `Python broadcasting` and `np.all(..., axis=1)` command created arrays `Xtr_let_rem` and `ytr_let_rem` from the data `Xtr_let` and `ytr_let`, where the samples `i` with `ytr_let[i] == 9, 12` or `15` are removed. Also created `Xts_let_rem` and `yts_let_rem` similarly.\n",
        "\n"
      ]
    },
    {
      "cell_type": "code",
      "metadata": {
        "id": "yKfAc6CtX_U3",
        "colab_type": "code",
        "colab": {}
      },
      "source": [
        "v = np.where(ytr_let == 9)\n",
        "v1 = np.where(ytr_let == 12)\n",
        "v2 = np.where(ytr_let == 15)\n",
        "rem_arr = v+v1+v2\n",
        "\n",
        "Xtr_let_rem = np.delete(Xtr_let, rem_arr, axis=0)\n",
        "ytr_let_rem = np.delete(ytr_let, rem_arr, axis=0)\n",
        "\n",
        "v = np.where(yts_let == 9)\n",
        "v1 = np.where(yts_let == 12)\n",
        "v2 = np.where(yts_let == 15)\n",
        "rem_arr = v+v1+v2\n",
        "\n",
        "Xts_let_rem = np.delete(Xts_let, rem_arr, axis=0)\n",
        "yts_let_rem = np.delete(yts_let, rem_arr, axis=0)\n"
      ],
      "execution_count": 0,
      "outputs": []
    },
    {
      "cell_type": "code",
      "metadata": {
        "id": "ny0Bc8HhX_U6",
        "colab_type": "code",
        "colab": {}
      },
      "source": [
        "# Number of training and test digits and letters\n",
        "ntr_dig = 5000\n",
        "ntr_let = 1000\n",
        "nts_dig = 5000\n",
        "nts_let = 1000\n",
        "\n",
        "# Sub-sampled training and test data\n",
        "nsamp = Xtr_dig.shape[0]\n",
        "Iperm = np.random.permutation(nsamp)\n",
        "\n",
        "Xtr1_dig = Xtr_dig[Iperm[:ntr_dig],:]\n",
        "ytr1_dig = ytr_dig[Iperm[:ntr_dig]]\n",
        "\n",
        "nsamp = Xtr_let_rem.shape[0]\n",
        "Iperm = np.random.permutation(nsamp)\n",
        "\n",
        "Xtr1_let = Xtr_let_rem[Iperm[:ntr_let],:]\n",
        "ytr1_let = ytr_let_rem[Iperm[:ntr_let]]\n",
        "\n",
        "nsamp = Xts_dig.shape[0]\n",
        "Iperm = np.random.permutation(nsamp)\n",
        "\n",
        "Xts1_dig = Xts_dig[Iperm[:nts_dig],:]\n",
        "yts1_dig = yts_dig[Iperm[:nts_dig]]\n",
        "\n",
        "nsamp = Xts_let_rem.shape[0]\n",
        "Iperm = np.random.permutation(nsamp)\n",
        "\n",
        "Xts1_let = Xts_let_rem[Iperm[:nts_let],:]\n",
        "yts1_let = yts_let_rem[Iperm[:nts_let]]\n",
        " "
      ],
      "execution_count": 0,
      "outputs": []
    },
    {
      "cell_type": "markdown",
      "metadata": {
        "id": "qkK4TYLkX_U9",
        "colab_type": "text"
      },
      "source": [
        "**Combining the digit and letter arrays using the `np.hstack` and `np.vstack` methods..**\n",
        "\n",
        "* An array `Xtr` by stacking `Xtr1_dig`, `Xtr1_let`. 6000 total samples.\n",
        "* A new label vector `ytr` where `ytr[i] = ytr1_dig[i]` for any digit sample and `ytr[i]=10` for any letter sample.  Thus, all the letters are lumped into a single class with label 11.\n",
        "* Creating test arrays `Xts` and `yts` similarly. \n",
        "\n"
      ]
    },
    {
      "cell_type": "code",
      "metadata": {
        "id": "uXsqhwzmX_U-",
        "colab_type": "code",
        "colab": {}
      },
      "source": [
        "Xtr = np.vstack((Xtr1_dig, Xtr1_let))\n",
        "ytr = np.hstack((ytr1_dig, 10*np.ones(1000)))\n",
        "\n",
        "Xts = np.vstack((Xts1_dig, Xts1_let))\n",
        "yts = np.hstack((yts1_dig, 10*np.ones(1000)))"
      ],
      "execution_count": 0,
      "outputs": []
    },
    {
      "cell_type": "markdown",
      "metadata": {
        "id": "VTVDosfaX_U_",
        "colab_type": "text"
      },
      "source": [
        "# Rescaling data\n",
        "\n",
        "The training data above takes values from 0 to 255.  Rescaling the data from -1 to 1 will get slightly better performance on the SVM.\n",
        "The scaled data are saved into arrays `Xtr1` and `Xts1`."
      ]
    },
    {
      "cell_type": "code",
      "metadata": {
        "id": "z02zLO6HX_VA",
        "colab_type": "code",
        "colab": {}
      },
      "source": [
        "Xtr1 = Xtr/255.0*2 - 1\n",
        "Xts1 = Xts/255.0*2 - 1"
      ],
      "execution_count": 0,
      "outputs": []
    },
    {
      "cell_type": "markdown",
      "metadata": {
        "id": "CcmDwEpkX_VC",
        "colab_type": "text"
      },
      "source": [
        "## Running the SVM classifier\n",
        "\n",
        "Using an `rbf` classifier with `C=2.8` and `gamma=.0073`."
      ]
    },
    {
      "cell_type": "code",
      "metadata": {
        "id": "Ivbb-7CIX_VC",
        "colab_type": "code",
        "colab": {}
      },
      "source": [
        "from sklearn import svm\n",
        "\n",
        "# A support vector classifier\n",
        "svc = svm.SVC(probability=False, kernel=\"rbf\", C=2.8, gamma=.0073,verbose=10)"
      ],
      "execution_count": 0,
      "outputs": []
    },
    {
      "cell_type": "markdown",
      "metadata": {
        "id": "neA_th7FX_VE",
        "colab_type": "text"
      },
      "source": [
        "# Fit the classifier"
      ]
    },
    {
      "cell_type": "code",
      "metadata": {
        "id": "noKa8ZR1X_VF",
        "colab_type": "code",
        "colab": {},
        "outputId": "19095a12-57e6-4393-b95c-259fe2c0b762"
      },
      "source": [
        "svc.fit(Xtr1,ytr)"
      ],
      "execution_count": 0,
      "outputs": [
        {
          "output_type": "stream",
          "text": [
            "[LibSVM]"
          ],
          "name": "stdout"
        },
        {
          "output_type": "execute_result",
          "data": {
            "text/plain": [
              "SVC(C=2.8, cache_size=200, class_weight=None, coef0=0.0,\n",
              "  decision_function_shape='ovr', degree=3, gamma=0.0073, kernel='rbf',\n",
              "  max_iter=-1, probability=False, random_state=None, shrinking=True,\n",
              "  tol=0.001, verbose=10)"
            ]
          },
          "metadata": {
            "tags": []
          },
          "execution_count": 162
        }
      ]
    },
    {
      "cell_type": "markdown",
      "metadata": {
        "id": "0LU68vfDX_VH",
        "colab_type": "text"
      },
      "source": [
        "# Measuring the accuracy on the test data."
      ]
    },
    {
      "cell_type": "code",
      "metadata": {
        "id": "yga9FrJYX_VH",
        "colab_type": "code",
        "colab": {},
        "outputId": "2b549655-ccf0-4dc5-fda4-f0fe75659891"
      },
      "source": [
        "from sklearn.metrics import accuracy_score\n",
        "\n",
        "y_pred = svc.predict(Xts1)\n",
        "acc = accuracy_score(yts,y_pred)\n",
        "\n",
        "error_rate = 1 - acc\n",
        "print(\"Accuracy on the test data =\",acc)\n",
        "print(\"Error data on the test data =\",error_rate)"
      ],
      "execution_count": 0,
      "outputs": [
        {
          "output_type": "stream",
          "text": [
            "Accuracy on the test data = 0.9141666666666667\n",
            "Error data on the test data = 0.08583333333333332\n"
          ],
          "name": "stdout"
        }
      ]
    },
    {
      "cell_type": "markdown",
      "metadata": {
        "id": "hDuD-3f2X_VL",
        "colab_type": "text"
      },
      "source": [
        "# Printing a confusion matrix."
      ]
    },
    {
      "cell_type": "code",
      "metadata": {
        "scrolled": true,
        "id": "8-X1XDbwX_VL",
        "colab_type": "code",
        "colab": {},
        "outputId": "8046d94a-b45c-423f-99a5-06210d9ea613"
      },
      "source": [
        "from sklearn.metrics import confusion_matrix\n",
        "C = confusion_matrix(yts,y_pred)\n",
        "\n",
        "# Normalizing the confusion matrix\n",
        "Csum = np.sum(C, axis = 1)\n",
        "C =np.divide(C,Csum)\n",
        "\n",
        "print(np.array_str(C, precision=3, suppress_small=True))\n",
        "plt.imshow(C, interpolation='none')\n",
        "plt.colorbar()"
      ],
      "execution_count": 0,
      "outputs": [
        {
          "output_type": "stream",
          "text": [
            "[[0.948 0.    0.    0.    0.002 0.002 0.    0.    0.004 0.    0.022]\n",
            " [0.    0.981 0.002 0.    0.    0.002 0.    0.    0.    0.    0.008]\n",
            " [0.    0.002 0.915 0.    0.    0.    0.    0.008 0.006 0.    0.037]\n",
            " [0.002 0.    0.004 0.921 0.    0.006 0.    0.002 0.014 0.    0.023]\n",
            " [0.    0.002 0.    0.    0.897 0.    0.    0.    0.    0.006 0.047]\n",
            " [0.    0.    0.    0.013 0.    0.896 0.    0.    0.002 0.002 0.042]\n",
            " [0.    0.004 0.    0.    0.    0.008 0.919 0.    0.    0.    0.032]\n",
            " [0.    0.    0.002 0.    0.004 0.    0.    0.953 0.    0.008 0.017]\n",
            " [0.002 0.004 0.004 0.002 0.002 0.004 0.    0.002 0.904 0.    0.038]\n",
            " [0.    0.    0.    0.009 0.004 0.002 0.    0.006 0.006 0.934 0.021]\n",
            " [0.028 0.017 0.034 0.017 0.028 0.077 0.019 0.006 0.03  0.048 0.848]]\n"
          ],
          "name": "stdout"
        },
        {
          "output_type": "execute_result",
          "data": {
            "text/plain": [
              "<matplotlib.colorbar.Colorbar at 0x259419af9e8>"
            ]
          },
          "metadata": {
            "tags": []
          },
          "execution_count": 164
        },
        {
          "output_type": "display_data",
          "data": {
            "image/png": "[encoded data removed]",
            "text/plain": [
              "<Figure size 432x288 with 2 Axes>"
            ]
          },
          "metadata": {
            "tags": [],
            "needs_background": "light"
          }
        }
      ]
    },
    {
      "cell_type": "code",
      "metadata": {
        "id": "c6RuBzdnX_VN",
        "colab_type": "code",
        "colab": {},
        "outputId": "43be58c6-750a-45a9-c939-b555830e9279"
      },
      "source": [
        "# Error rates\n",
        "err_digaslet = np.sum(C[:10,10])/11\n",
        "err_letasdig = 1 - C[10,10] \n",
        "print(\"The fraction of digits are mislabeled as letters = %.3f\" % err_digaslet )\n",
        "print(\"The fraction of letters are mislabeled as digits = %.3f\" % err_letasdig )"
      ],
      "execution_count": 0,
      "outputs": [
        {
          "output_type": "stream",
          "text": [
            "The fraction of digits are mislabeled as letters = 0.026\n",
            "The fraction of letters are mislabeled as digits = 0.152\n"
          ],
          "name": "stdout"
        }
      ]
    },
    {
      "cell_type": "markdown",
      "metadata": {
        "id": "e4HvzRtOX_VP",
        "colab_type": "text"
      },
      "source": [
        "## Selecting gamma and C via Cross-Validation (Using For-Loops)\n",
        "\n",
        "Trying different values of `gamma` and `C` to select the pair of values with the lowest test error rate."
      ]
    },
    {
      "cell_type": "code",
      "metadata": {
        "id": "xUIbHjkWX_VQ",
        "colab_type": "code",
        "colab": {},
        "outputId": "5b47b746-c082-445a-b0be-a9851b8cea70"
      },
      "source": [
        "C_test = [0.1,1,10]\n",
        "gam_test = [0.001,0.01,0.1]\n",
        "\n",
        "nC = len(C_test)\n",
        "ngam = len(gam_test)\n",
        "acc = np.zeros((nC,ngam))\n",
        "\n",
        "for i in range(nC):\n",
        "    for j in range(ngam):\n",
        "        svc = svm.SVC(probability=False, kernel=\"rbf\", C= C_test[i], gamma=gam_test[j], verbose=10)\n",
        "        svc.fit(Xtr1,ytr)\n",
        "        y_pred = svc.predict(Xts1)\n",
        "        acci = accuracy_score(yts,y_pred)\n",
        "        acc[i,j] = acci\n"
      ],
      "execution_count": 0,
      "outputs": [
        {
          "output_type": "stream",
          "text": [
            "[LibSVM][LibSVM][LibSVM][LibSVM][LibSVM][LibSVM][LibSVM][LibSVM][LibSVM]"
          ],
          "name": "stdout"
        }
      ]
    },
    {
      "cell_type": "code",
      "metadata": {
        "id": "WmUFfbh-X_VS",
        "colab_type": "code",
        "colab": {},
        "outputId": "0b925953-e54f-4fe2-b2e8-738483b4c7f6"
      },
      "source": [
        "# Accuracy matrix\n",
        "print(acc)"
      ],
      "execution_count": 0,
      "outputs": [
        {
          "output_type": "stream",
          "text": [
            "[[0.79033333 0.5925     0.16666667]\n",
            " [0.87116667 0.891      0.2205    ]\n",
            " [0.89916667 0.89683333 0.22316667]]\n"
          ],
          "name": "stdout"
        }
      ]
    },
    {
      "cell_type": "code",
      "metadata": {
        "id": "IftPwmi6X_VU",
        "colab_type": "code",
        "colab": {},
        "outputId": "1142039b-1613-437f-8d46-87ca638562f3"
      },
      "source": [
        "# The maximum accuracy and the corresponding best C and gamma\n",
        "\n",
        "[Coptarg,gamOptarg] = np.unravel_index(np.argmax(acc, axis=None), acc.shape)\n",
        "print(\"The maximum accuracy = %.6f\" %acc[Coptarg,gamOptarg])\n",
        "print(\"The corresponding value of C =\", C_test[Coptarg])\n",
        "print(\"The corresponding value of gamma =\", gam_test[gamOptarg])\n",
        "\n"
      ],
      "execution_count": 0,
      "outputs": [
        {
          "output_type": "stream",
          "text": [
            "The maximum accuracy = 0.899167\n",
            "The corresponding value of C = 10\n",
            "The corresponding value of gamma = 0.001\n"
          ],
          "name": "stdout"
        }
      ]
    }
  ]
}